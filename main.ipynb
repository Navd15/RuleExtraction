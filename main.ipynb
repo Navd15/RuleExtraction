{
 "cells": [
  {
   "cell_type": "code",
   "execution_count": 95,
   "metadata": {},
   "outputs": [
    {
     "data": {
      "text/plain": [
       "True"
      ]
     },
     "execution_count": 95,
     "metadata": {},
     "output_type": "execute_result"
    }
   ],
   "source": [
    "import json\n",
    "import spacy\n",
    "from spacy.language import Language\n",
    "import dotenv\n",
    "dotenv.load_dotenv('.env')"
   ]
  },
  {
   "cell_type": "code",
   "execution_count": 23,
   "metadata": {},
   "outputs": [],
   "source": [
    "file_in=''"
   ]
  },
  {
   "cell_type": "code",
   "execution_count": 352,
   "metadata": {},
   "outputs": [],
   "source": [
    "with open(r'C:\\Users\\navcer\\Downloads\\biz\\json\\20220304652-Invoice_2071790_from_Intone_Networks_Inc-0.json','r') as file:\n",
    "    file_in=json.loads(file.read())\n",
    "\n"
   ]
  },
  {
   "cell_type": "code",
   "execution_count": 353,
   "metadata": {},
   "outputs": [],
   "source": [
    "ext_str=\"\""
   ]
  },
  {
   "cell_type": "code",
   "execution_count": 354,
   "metadata": {},
   "outputs": [],
   "source": [
    "for i in range(len(file_in['text_annotations'])):\n",
    "    ext_str+=file_in['text_annotations'][i]['block_details']['block_description']+'\\n' \n",
    "    "
   ]
  },
  {
   "cell_type": "code",
   "execution_count": 355,
   "metadata": {},
   "outputs": [
    {
     "data": {
      "text/plain": [
       "\"Intone Networks Inc\\n10 Austin Ave\\nIselin, NJ 08830\\nintone\\n9089307189\\nN E T W o R K S\\naccounts@intonenetworks.con\\nhttp://intonenetworks.com\\nINVOICE\\nBILL TO\\nINVOICE # 2071790\\nBiztech2go Inc\\nDATE 09/04/2020\\n2082 Bus Ctr Dr Ste 250\\nDUE DATE 10/04/2020\\nIrvine, CA 92612\\nTERMS Net 30\\nUnited States\\nSTATE\\nSTART DATE\\nEND DATE\\nCA\\n08/01/2020\\n08/31/2020\\nACTIVITY\\nQTY\\nRATE\\nAMOUNT\\nBala Gade Manoj Kumar / Biztech2go\\n168\\n85.00\\n14,280.00\\nServices provided by our consultant Gade Bala Manoj Kumar for\\nthe month of August'2020\\nBALANCE DUE\\n$14,280.00\\n\""
      ]
     },
     "execution_count": 355,
     "metadata": {},
     "output_type": "execute_result"
    }
   ],
   "source": [
    "ext_str"
   ]
  },
  {
   "cell_type": "code",
   "execution_count": 367,
   "metadata": {},
   "outputs": [],
   "source": [
    "from spacy.matcher import Matcher"
   ]
  },
  {
   "cell_type": "code",
   "execution_count": 381,
   "metadata": {},
   "outputs": [],
   "source": [
    "nlp = spacy.load(\"en_core_web_sm\")\n",
    "matcher = Matcher(nlp.vocab)\n",
    "# doc=nlp(ext_str)"
   ]
  },
  {
   "cell_type": "code",
   "execution_count": 395,
   "metadata": {},
   "outputs": [
    {
     "data": {
      "text/plain": [
       "spacy.lang.en.English"
      ]
     },
     "execution_count": 395,
     "metadata": {},
     "output_type": "execute_result"
    }
   ],
   "source": [
    "type(nlp)"
   ]
  },
  {
   "cell_type": "code",
   "execution_count": 382,
   "metadata": {},
   "outputs": [],
   "source": [
    "invoice_pat=[[{'text':{'in':['INVOICE','BILL']}},{'ORTH':{'IN':['#','@']}},{'IS_DIGIT':True}]]\n",
    "# pattern to extract balance/money statement\n",
    "balance_pat=[[{'IS_CURRENCY': True}, {'IS_SPACE': True, 'OP': '?'}, {'LIKE_NUM': True}]]\n",
    "# pattern to extract date eg DD-MM-YYY DD/MM/YYYY etc\n",
    "date_pat=[[{'text':{'REGEX':r'\\b(\\d{4}|\\d{2})[\\/\\-]\\d{2}[\\/\\-](\\d{4}|\\d{2})'}}],\n",
    "[{'IS_DIGIT': True,'length':{'in':[2,4]}}, {'ORTH': '-'}, {'IS_DIGIT': True,'length':2}, {'ORTH': '-'}, {'IS_DIGIT': True,'length':{'in':[2,4]}}],\n",
    "[{'IS_DIGIT': True}, {'ORTH': '-'}, {'IS_ALPHA': True}, {'ORTH': '-'}, {'IS_DIGIT': True}],\n",
    "[{'IS_ALPHA': True}, {'ORTH': '-'}, {'IS_DIGIT': True}, {'ORTH': '-'}, {'IS_DIGIT': True}]\n",
    "]\n",
    "\n",
    "# add matcher pattern for balance,date and invoice\n",
    "matcher.add('bal_matcher',balance_pat)\n",
    "matcher.add('dat_matcher',date_pat)\n",
    "matcher.add('inv_matcher',invoice_pat)\n",
    "# custom pipeline component to add custom NER to doc.ent \n",
    "@Language.component(\"custom_ent\")\n",
    "def custom_ent(doc):\n",
    "    new_ents=[]\n",
    "    matches=matcher(doc)\n",
    "    saved_ents=set()\n",
    "    # check for required matches\n",
    "    for i in matches:\n",
    "        string_id=nlp.vocab.strings[i[0]]\n",
    "        # if first of its type match date, balance\n",
    "        if string_id not in saved_ents:\n",
    "            if string_id=='bal_matcher':\n",
    "                new_ent=('balance',i[1],i[2],)\n",
    "                saved_ents.add(string_id)\n",
    "                new_ents.append(new_ent)\n",
    "                continue\n",
    "            if string_id=='dat_matcher' :\n",
    "                new_ent=('due_date',i[1],i[2],)\n",
    "                saved_ents.add(string_id)\n",
    "                new_ents.append(new_ent)\n",
    "                continue\n",
    "            if string_id=='inv_matcher' :\n",
    "                new_ent=('invoice_number',i[1]+2,i[2],)\n",
    "                saved_ents.add(string_id)\n",
    "                new_ents.append(new_ent)\n",
    "                continue\n",
    "    # check for organization ent from the default statstical model of spacy\n",
    "    for ents in doc.ents:\n",
    "        if ents.label_ and (ents.label_ not in saved_ents):\n",
    "            new_ent=('vendor_name',ents.start,ents.end)\n",
    "            new_ents.append(new_ent)\n",
    "            break\n",
    "        # override the default ents\n",
    "    doc.ents=new_ents\n",
    "    return doc\n",
    "    \n"
   ]
  },
  {
   "cell_type": "code",
   "execution_count": 383,
   "metadata": {},
   "outputs": [
    {
     "data": {
      "text/plain": [
       "<function __main__.custom_ent(doc)>"
      ]
     },
     "execution_count": 383,
     "metadata": {},
     "output_type": "execute_result"
    }
   ],
   "source": [
    "# add new component to nlp pipeline after NER\n",
    "nlp.add_pipe('custom_ent',after='ner')"
   ]
  },
  {
   "cell_type": "code",
   "execution_count": 384,
   "metadata": {},
   "outputs": [
    {
     "name": "stdout",
     "output_type": "stream",
     "text": [
      "Intone Networks Inc\n",
      "2071790\n",
      "09/04/2020\n",
      "$14,280.00\n"
     ]
    }
   ],
   "source": [
    "# run pipe over the exracted string\n",
    "doc=nlp(ext_str)\n",
    "# print(doc)\n",
    "for i in doc.ents:\n",
    "    print(i)\n",
    "#     # pass"
   ]
  }
 ],
 "metadata": {
  "interpreter": {
   "hash": "ee5cc6fef2d70a7e71ee3826687cbd150f18158e0b1eef11d4f4f92bb920e304"
  },
  "kernelspec": {
   "display_name": "Python 3.9.7 64-bit",
   "language": "python",
   "name": "python3"
  },
  "language_info": {
   "codemirror_mode": {
    "name": "ipython",
    "version": 3
   },
   "file_extension": ".py",
   "mimetype": "text/x-python",
   "name": "python",
   "nbconvert_exporter": "python",
   "pygments_lexer": "ipython3",
   "version": "3.9.7"
  },
  "orig_nbformat": 4
 },
 "nbformat": 4,
 "nbformat_minor": 2
}
